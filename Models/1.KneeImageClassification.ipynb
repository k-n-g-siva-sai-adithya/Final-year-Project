{
  "nbformat": 4,
  "nbformat_minor": 0,
  "metadata": {
    "colab": {
      "provenance": [],
      "gpuType": "T4"
    },
    "kernelspec": {
      "name": "python3",
      "display_name": "Python 3"
    },
    "language_info": {
      "name": "python"
    },
    "accelerator": "GPU"
  },
  "cells": [
    {
      "cell_type": "markdown",
      "source": [
        "**CNN_InceptionV3**"
      ],
      "metadata": {
        "id": "8RqRgtywlFVo"
      }
    },
    {
      "cell_type": "code",
      "execution_count": null,
      "metadata": {
        "id": "R8-Wwygfk2SI"
      },
      "outputs": [],
      "source": [
        "import os\n",
        "os.environ[\"KAGGLE_USERNAME\"]=\"reviewc7\"\n",
        "os.environ[\"KAGGLE_KEY\"]=\"483139e1b10d7096045ca1c60488c56b\""
      ]
    },
    {
      "cell_type": "markdown",
      "source": [
        "**CNN**"
      ],
      "metadata": {
        "id": "RfCHQrtouS6J"
      }
    },
    {
      "cell_type": "code",
      "source": [
        "import os\n",
        "from zipfile import ZipFile\n",
        "\n",
        "import numpy as np\n",
        "import pandas as pd\n",
        "import matplotlib.pyplot as plt\n",
        "import cv2\n",
        "import glob\n",
        "import collections\n",
        "\n",
        "from sklearn.model_selection import train_test_split\n",
        "from sklearn.metrics import accuracy_score,classification_report,confusion_matrix\n",
        "\n",
        "from keras.layers import Input, Lambda, Dense, Flatten,Dropout,Conv2D,MaxPooling2D, BatchNormalization\n",
        "from keras.models import Sequential, Model\n",
        "from keras.callbacks import ModelCheckpoint, EarlyStopping, ReduceLROnPlateau\n",
        "from keras.preprocessing.image import ImageDataGenerator"
      ],
      "metadata": {
        "id": "070SwGABuBl4"
      },
      "execution_count": null,
      "outputs": []
    },
    {
      "cell_type": "code",
      "source": [
        "!kaggle datasets download shashwatwork/knee-osteoarthritis-dataset-with-severity"
      ],
      "metadata": {
        "colab": {
          "base_uri": "https://localhost:8080/"
        },
        "id": "QJIonH1AuRhz",
        "outputId": "a2e516e6-4020-4bee-a446-31c849d5e05c"
      },
      "execution_count": null,
      "outputs": [
        {
          "output_type": "stream",
          "name": "stdout",
          "text": [
            "Downloading knee-osteoarthritis-dataset-with-severity.zip to /content\n",
            " 99% 202M/204M [00:11<00:00, 23.0MB/s]\n",
            "100% 204M/204M [00:11<00:00, 19.1MB/s]\n"
          ]
        }
      ]
    },
    {
      "cell_type": "code",
      "source": [
        "file_name = '/content/knee-osteoarthritis-dataset-with-severity.zip'\n",
        "with ZipFile(file_name, 'r') as zip_file:\n",
        "  zip_file.extractall()"
      ],
      "metadata": {
        "id": "3m87-NDeuRsR"
      },
      "execution_count": null,
      "outputs": []
    },
    {
      "cell_type": "code",
      "source": [
        "first_class = []\n",
        "\n",
        "base_dir = os.getcwd()\n",
        "train_dir = os.path.join(base_dir, 'train')\n",
        "test_dir = os.path.join(base_dir, 'test')\n",
        "val_dir = os.path.join(base_dir, 'val')\n",
        "\n",
        "# Resizing images\n",
        "classes = [0, 1, 2]\n",
        "xdata = dict()\n",
        "for klass in [0,1,2]:\n",
        "\n",
        "    xdata[klass] = []\n",
        "    class_dir = os.path.join(train_dir,str(klass))\n",
        "    image_list =  os.listdir(class_dir)\n",
        "\n",
        "    for sample in image_list:\n",
        "        img = cv2.resize(cv2.imread(class_dir+'/'+sample),(100,100))\n",
        "        xdata[klass].append(img)"
      ],
      "metadata": {
        "id": "b64aztiouRx4"
      },
      "execution_count": null,
      "outputs": []
    },
    {
      "cell_type": "code",
      "source": [
        "X = np.array(xdata[0] + xdata[1] + xdata[2])\n",
        "print(X.shape)\n",
        "Y = np.array([0 for i in range(len(xdata[0]))] + [1 for i in range(len(xdata[1]))] + [2 for i in range(len(xdata[2]))])\n",
        "print(Y.shape)"
      ],
      "metadata": {
        "colab": {
          "base_uri": "https://localhost:8080/"
        },
        "id": "-C4mTyzUuR00",
        "outputId": "14d23b50-c003-43b6-85d1-633bd2b3b972"
      },
      "execution_count": null,
      "outputs": [
        {
          "output_type": "stream",
          "name": "stdout",
          "text": [
            "(4848, 100, 100, 3)\n",
            "(4848,)\n"
          ]
        }
      ]
    },
    {
      "cell_type": "code",
      "source": [
        "xtrain, xtest, ytrain, ytest = train_test_split(X, Y, test_size=0.3, random_state=0, shuffle=True)"
      ],
      "metadata": {
        "id": "mEwl0N2ruR3h"
      },
      "execution_count": null,
      "outputs": []
    },
    {
      "cell_type": "code",
      "source": [
        "from sklearn.utils import class_weight\n",
        "class_weights = class_weight.compute_class_weight(class_weight='balanced',\n",
        "                                                  classes= np.unique(ytrain),\n",
        "                                                  y= ytrain)\n",
        "class_weights = dict(enumerate(class_weights))"
      ],
      "metadata": {
        "id": "WoapvXtPuns9"
      },
      "execution_count": null,
      "outputs": []
    },
    {
      "cell_type": "code",
      "source": [
        "np.unique(ytrain)"
      ],
      "metadata": {
        "colab": {
          "base_uri": "https://localhost:8080/"
        },
        "id": "BcChzjHsunvw",
        "outputId": "3b3b8fbd-d300-4896-f7d6-210ec1935823"
      },
      "execution_count": null,
      "outputs": [
        {
          "output_type": "execute_result",
          "data": {
            "text/plain": [
              "array([0, 1, 2])"
            ]
          },
          "metadata": {},
          "execution_count": 9
        }
      ]
    },
    {
      "cell_type": "code",
      "source": [
        "def create_model():\n",
        "  model=Sequential()\n",
        "  model.add(Conv2D(64,(3,3),activation='relu',input_shape=(100,100,3)))\n",
        "  #pooling layer\n",
        "  model.add(MaxPooling2D(2,2))\n",
        "  model.add(BatchNormalization())\n",
        "  model.add(Conv2D(32,(3,3),activation='relu'))\n",
        "  #pooling layer\n",
        "  model.add(MaxPooling2D(2,2))\n",
        "  model.add(BatchNormalization())\n",
        "  model.add(Conv2D(64,(3,3),activation='relu'))\n",
        "  model.add(Dropout(0.5))\n",
        "  #pooling layer\n",
        "  model.add(MaxPooling2D(2,2))\n",
        "  model.add(BatchNormalization())\n",
        "  model.add(Conv2D(32,(3,3),activation='relu'))\n",
        "  model.add(Dropout(0.5))\n",
        "  #pooling layer\n",
        "  model.add(MaxPooling2D(2,2))\n",
        "  model.add(BatchNormalization())\n",
        "  model.add(Flatten())\n",
        "  model.add(Dense(64, activation='relu'))\n",
        "  model.add(Dropout(0.5))\n",
        "  model.add(Dense(3, activation='softmax'))\n",
        "\n",
        "  return model"
      ],
      "metadata": {
        "id": "Y0DcouOPunyk"
      },
      "execution_count": null,
      "outputs": []
    },
    {
      "cell_type": "code",
      "source": [
        "cnn = create_model()\n",
        "cnn.compile(optimizer='adam', loss='sparse_categorical_crossentropy', metrics=['accuracy'])\n",
        "print(cnn.summary())"
      ],
      "metadata": {
        "colab": {
          "base_uri": "https://localhost:8080/"
        },
        "id": "wjk28SmMuw_f",
        "outputId": "cbc4867b-cc25-41fe-9132-b6d824b72bd9"
      },
      "execution_count": null,
      "outputs": [
        {
          "output_type": "stream",
          "name": "stdout",
          "text": [
            "Model: \"sequential\"\n",
            "_________________________________________________________________\n",
            " Layer (type)                Output Shape              Param #   \n",
            "=================================================================\n",
            " conv2d (Conv2D)             (None, 98, 98, 64)        1792      \n",
            "                                                                 \n",
            " max_pooling2d (MaxPooling2  (None, 49, 49, 64)        0         \n",
            " D)                                                              \n",
            "                                                                 \n",
            " batch_normalization (Batch  (None, 49, 49, 64)        256       \n",
            " Normalization)                                                  \n",
            "                                                                 \n",
            " conv2d_1 (Conv2D)           (None, 47, 47, 32)        18464     \n",
            "                                                                 \n",
            " max_pooling2d_1 (MaxPoolin  (None, 23, 23, 32)        0         \n",
            " g2D)                                                            \n",
            "                                                                 \n",
            " batch_normalization_1 (Bat  (None, 23, 23, 32)        128       \n",
            " chNormalization)                                                \n",
            "                                                                 \n",
            " conv2d_2 (Conv2D)           (None, 21, 21, 64)        18496     \n",
            "                                                                 \n",
            " dropout (Dropout)           (None, 21, 21, 64)        0         \n",
            "                                                                 \n",
            " max_pooling2d_2 (MaxPoolin  (None, 10, 10, 64)        0         \n",
            " g2D)                                                            \n",
            "                                                                 \n",
            " batch_normalization_2 (Bat  (None, 10, 10, 64)        256       \n",
            " chNormalization)                                                \n",
            "                                                                 \n",
            " conv2d_3 (Conv2D)           (None, 8, 8, 32)          18464     \n",
            "                                                                 \n",
            " dropout_1 (Dropout)         (None, 8, 8, 32)          0         \n",
            "                                                                 \n",
            " max_pooling2d_3 (MaxPoolin  (None, 4, 4, 32)          0         \n",
            " g2D)                                                            \n",
            "                                                                 \n",
            " batch_normalization_3 (Bat  (None, 4, 4, 32)          128       \n",
            " chNormalization)                                                \n",
            "                                                                 \n",
            " flatten (Flatten)           (None, 512)               0         \n",
            "                                                                 \n",
            " dense (Dense)               (None, 64)                32832     \n",
            "                                                                 \n",
            " dropout_2 (Dropout)         (None, 64)                0         \n",
            "                                                                 \n",
            " dense_1 (Dense)             (None, 3)                 195       \n",
            "                                                                 \n",
            "=================================================================\n",
            "Total params: 91011 (355.51 KB)\n",
            "Trainable params: 90627 (354.01 KB)\n",
            "Non-trainable params: 384 (1.50 KB)\n",
            "_________________________________________________________________\n",
            "None\n"
          ]
        }
      ]
    },
    {
      "cell_type": "code",
      "source": [
        "my_callbacks = [EarlyStopping(monitor='val_accuracy',patience=20, verbose=2, restore_best_weights=True)]"
      ],
      "metadata": {
        "id": "GzD_T8aNuxCP"
      },
      "execution_count": null,
      "outputs": []
    },
    {
      "cell_type": "code",
      "source": [
        "cnn.fit(xtrain,ytrain,epochs=300,steps_per_epoch=117 ,batch_size=64,validation_data=(xtest,ytest),callbacks=my_callbacks)"
      ],
      "metadata": {
        "colab": {
          "base_uri": "https://localhost:8080/"
        },
        "id": "0r0jfoFBu2TF",
        "outputId": "f4d7571b-5b3f-4d9b-b7dd-991452f055e7"
      },
      "execution_count": null,
      "outputs": [
        {
          "output_type": "stream",
          "name": "stdout",
          "text": [
            "Epoch 1/300\n",
            "117/117 [==============================] - 21s 55ms/step - loss: 1.1728 - accuracy: 0.4347 - val_loss: 1.0612 - val_accuracy: 0.4749\n",
            "Epoch 2/300\n",
            "117/117 [==============================] - 5s 41ms/step - loss: 1.0645 - accuracy: 0.4730 - val_loss: 1.0532 - val_accuracy: 0.4770\n",
            "Epoch 3/300\n",
            "117/117 [==============================] - 4s 33ms/step - loss: 1.0454 - accuracy: 0.4847 - val_loss: 1.0542 - val_accuracy: 0.4770\n",
            "Epoch 4/300\n",
            "117/117 [==============================] - 4s 35ms/step - loss: 1.0345 - accuracy: 0.4982 - val_loss: 1.0425 - val_accuracy: 0.4873\n",
            "Epoch 5/300\n",
            "117/117 [==============================] - 4s 34ms/step - loss: 1.0316 - accuracy: 0.5010 - val_loss: 1.0362 - val_accuracy: 0.4873\n",
            "Epoch 6/300\n",
            "117/117 [==============================] - 4s 33ms/step - loss: 1.0146 - accuracy: 0.5166 - val_loss: 1.0304 - val_accuracy: 0.5107\n",
            "Epoch 7/300\n",
            "117/117 [==============================] - 4s 33ms/step - loss: 1.0149 - accuracy: 0.5179 - val_loss: 1.1525 - val_accuracy: 0.3306\n",
            "Epoch 8/300\n",
            "117/117 [==============================] - 4s 34ms/step - loss: 1.0054 - accuracy: 0.5278 - val_loss: 1.0426 - val_accuracy: 0.4770\n",
            "Epoch 9/300\n",
            "117/117 [==============================] - 4s 33ms/step - loss: 1.0014 - accuracy: 0.5293 - val_loss: 1.0331 - val_accuracy: 0.4825\n",
            "Epoch 10/300\n",
            "117/117 [==============================] - 4s 33ms/step - loss: 1.0104 - accuracy: 0.5158 - val_loss: 1.0386 - val_accuracy: 0.4928\n",
            "Epoch 11/300\n",
            "117/117 [==============================] - 4s 38ms/step - loss: 0.9923 - accuracy: 0.5363 - val_loss: 1.0439 - val_accuracy: 0.4921\n",
            "Epoch 12/300\n",
            "117/117 [==============================] - 5s 41ms/step - loss: 0.9891 - accuracy: 0.5362 - val_loss: 1.0510 - val_accuracy: 0.4220\n",
            "Epoch 13/300\n",
            "117/117 [==============================] - 6s 47ms/step - loss: 0.9787 - accuracy: 0.5462 - val_loss: 1.0477 - val_accuracy: 0.4440\n",
            "Epoch 14/300\n",
            "117/117 [==============================] - 5s 41ms/step - loss: 0.9816 - accuracy: 0.5429 - val_loss: 1.0549 - val_accuracy: 0.4172\n",
            "Epoch 15/300\n",
            "117/117 [==============================] - 5s 42ms/step - loss: 0.9651 - accuracy: 0.5579 - val_loss: 1.0594 - val_accuracy: 0.4186\n",
            "Epoch 16/300\n",
            "117/117 [==============================] - 5s 39ms/step - loss: 0.9630 - accuracy: 0.5545 - val_loss: 1.0521 - val_accuracy: 0.4625\n",
            "Epoch 17/300\n",
            "117/117 [==============================] - 4s 32ms/step - loss: 0.9587 - accuracy: 0.5592 - val_loss: 1.0351 - val_accuracy: 0.5086\n",
            "Epoch 18/300\n",
            "117/117 [==============================] - 4s 32ms/step - loss: 0.9386 - accuracy: 0.5751 - val_loss: 1.0357 - val_accuracy: 0.5100\n",
            "Epoch 19/300\n",
            "117/117 [==============================] - 4s 34ms/step - loss: 0.9398 - accuracy: 0.5753 - val_loss: 1.0451 - val_accuracy: 0.4454\n",
            "Epoch 20/300\n",
            "117/117 [==============================] - 4s 32ms/step - loss: 0.9337 - accuracy: 0.5807 - val_loss: 1.1134 - val_accuracy: 0.4151\n",
            "Epoch 21/300\n",
            "117/117 [==============================] - 4s 32ms/step - loss: 0.9289 - accuracy: 0.5762 - val_loss: 1.0548 - val_accuracy: 0.4433\n",
            "Epoch 22/300\n",
            "117/117 [==============================] - 4s 36ms/step - loss: 0.9331 - accuracy: 0.5724 - val_loss: 1.0474 - val_accuracy: 0.4357\n",
            "Epoch 23/300\n",
            "117/117 [==============================] - 4s 32ms/step - loss: 0.9240 - accuracy: 0.5812 - val_loss: 1.3198 - val_accuracy: 0.3361\n",
            "Epoch 24/300\n",
            "117/117 [==============================] - 4s 32ms/step - loss: 0.9162 - accuracy: 0.5799 - val_loss: 1.0159 - val_accuracy: 0.5107\n",
            "Epoch 25/300\n",
            "117/117 [==============================] - 4s 33ms/step - loss: 0.8957 - accuracy: 0.5974 - val_loss: 0.9900 - val_accuracy: 0.5381\n",
            "Epoch 26/300\n",
            "117/117 [==============================] - 4s 32ms/step - loss: 0.8934 - accuracy: 0.5960 - val_loss: 1.3319 - val_accuracy: 0.3457\n",
            "Epoch 27/300\n",
            "117/117 [==============================] - 4s 32ms/step - loss: 0.9045 - accuracy: 0.5933 - val_loss: 1.0280 - val_accuracy: 0.4763\n",
            "Epoch 28/300\n",
            "117/117 [==============================] - 4s 33ms/step - loss: 0.9082 - accuracy: 0.5905 - val_loss: 0.9852 - val_accuracy: 0.5485\n",
            "Epoch 29/300\n",
            "117/117 [==============================] - 4s 33ms/step - loss: 0.8930 - accuracy: 0.6040 - val_loss: 1.0371 - val_accuracy: 0.4832\n",
            "Epoch 30/300\n",
            "117/117 [==============================] - 4s 33ms/step - loss: 0.8712 - accuracy: 0.6143 - val_loss: 0.9720 - val_accuracy: 0.5430\n",
            "Epoch 31/300\n",
            "117/117 [==============================] - 4s 33ms/step - loss: 0.8713 - accuracy: 0.6130 - val_loss: 0.9975 - val_accuracy: 0.5485\n",
            "Epoch 32/300\n",
            "117/117 [==============================] - 4s 33ms/step - loss: 0.8704 - accuracy: 0.6118 - val_loss: 1.0280 - val_accuracy: 0.4866\n",
            "Epoch 33/300\n",
            "117/117 [==============================] - 4s 32ms/step - loss: 0.8801 - accuracy: 0.6093 - val_loss: 1.0538 - val_accuracy: 0.4680\n",
            "Epoch 34/300\n",
            "117/117 [==============================] - 4s 32ms/step - loss: 0.8751 - accuracy: 0.6091 - val_loss: 0.9779 - val_accuracy: 0.5430\n",
            "Epoch 35/300\n",
            "117/117 [==============================] - 4s 33ms/step - loss: 0.8626 - accuracy: 0.6160 - val_loss: 0.9764 - val_accuracy: 0.5423\n",
            "Epoch 36/300\n",
            "117/117 [==============================] - 4s 32ms/step - loss: 0.8484 - accuracy: 0.6276 - val_loss: 1.5269 - val_accuracy: 0.3265\n",
            "Epoch 37/300\n",
            "117/117 [==============================] - 4s 32ms/step - loss: 0.8580 - accuracy: 0.6149 - val_loss: 1.1983 - val_accuracy: 0.4103\n",
            "Epoch 38/300\n",
            "117/117 [==============================] - 4s 34ms/step - loss: 0.8520 - accuracy: 0.6205 - val_loss: 0.9511 - val_accuracy: 0.5663\n",
            "Epoch 39/300\n",
            "117/117 [==============================] - 4s 32ms/step - loss: 0.8443 - accuracy: 0.6229 - val_loss: 1.2267 - val_accuracy: 0.3924\n",
            "Epoch 40/300\n",
            "117/117 [==============================] - 4s 32ms/step - loss: 0.8411 - accuracy: 0.6294 - val_loss: 1.0013 - val_accuracy: 0.5045\n",
            "Epoch 41/300\n",
            "117/117 [==============================] - 4s 34ms/step - loss: 0.8227 - accuracy: 0.6309 - val_loss: 0.9952 - val_accuracy: 0.5175\n",
            "Epoch 42/300\n",
            "117/117 [==============================] - 4s 38ms/step - loss: 0.8534 - accuracy: 0.6213 - val_loss: 1.8332 - val_accuracy: 0.3244\n",
            "Epoch 43/300\n",
            "117/117 [==============================] - 4s 32ms/step - loss: 0.8423 - accuracy: 0.6233 - val_loss: 1.0095 - val_accuracy: 0.5265\n",
            "Epoch 44/300\n",
            "117/117 [==============================] - 4s 34ms/step - loss: 0.8408 - accuracy: 0.6322 - val_loss: 1.0435 - val_accuracy: 0.4832\n",
            "Epoch 45/300\n",
            "117/117 [==============================] - 4s 32ms/step - loss: 0.8209 - accuracy: 0.6357 - val_loss: 1.1283 - val_accuracy: 0.3643\n",
            "Epoch 46/300\n",
            "117/117 [==============================] - 4s 32ms/step - loss: 0.8337 - accuracy: 0.6265 - val_loss: 2.1335 - val_accuracy: 0.3258\n",
            "Epoch 47/300\n",
            "117/117 [==============================] - 4s 34ms/step - loss: 0.8255 - accuracy: 0.6357 - val_loss: 1.1363 - val_accuracy: 0.4550\n",
            "Epoch 48/300\n",
            "117/117 [==============================] - 4s 32ms/step - loss: 0.8175 - accuracy: 0.6365 - val_loss: 1.0006 - val_accuracy: 0.5292\n",
            "Epoch 49/300\n",
            "117/117 [==============================] - 4s 35ms/step - loss: 0.8051 - accuracy: 0.6421 - val_loss: 1.0606 - val_accuracy: 0.4694\n",
            "Epoch 50/300\n",
            "117/117 [==============================] - 4s 36ms/step - loss: 0.7963 - accuracy: 0.6459 - val_loss: 1.0447 - val_accuracy: 0.4955\n",
            "Epoch 51/300\n",
            "117/117 [==============================] - 4s 32ms/step - loss: 0.7812 - accuracy: 0.6531 - val_loss: 1.0439 - val_accuracy: 0.4955\n",
            "Epoch 52/300\n",
            "117/117 [==============================] - 4s 32ms/step - loss: 0.7774 - accuracy: 0.6554 - val_loss: 1.2550 - val_accuracy: 0.4220\n",
            "Epoch 53/300\n",
            "117/117 [==============================] - 4s 35ms/step - loss: 0.8014 - accuracy: 0.6491 - val_loss: 1.0592 - val_accuracy: 0.4680\n",
            "Epoch 54/300\n",
            "117/117 [==============================] - 4s 32ms/step - loss: 0.8746 - accuracy: 0.6072 - val_loss: 1.3836 - val_accuracy: 0.3333\n",
            "Epoch 55/300\n",
            "117/117 [==============================] - 4s 32ms/step - loss: 0.8508 - accuracy: 0.6149 - val_loss: 1.0374 - val_accuracy: 0.4756\n",
            "Epoch 56/300\n",
            "117/117 [==============================] - 4s 34ms/step - loss: 0.8141 - accuracy: 0.6376 - val_loss: 0.9691 - val_accuracy: 0.5835\n",
            "Epoch 57/300\n",
            "117/117 [==============================] - 4s 33ms/step - loss: 0.8133 - accuracy: 0.6399 - val_loss: 1.0198 - val_accuracy: 0.4997\n",
            "Epoch 58/300\n",
            "117/117 [==============================] - 4s 32ms/step - loss: 0.8269 - accuracy: 0.6324 - val_loss: 0.9825 - val_accuracy: 0.5423\n",
            "Epoch 59/300\n",
            "117/117 [==============================] - 4s 33ms/step - loss: 0.7855 - accuracy: 0.6486 - val_loss: 1.0307 - val_accuracy: 0.5148\n",
            "Epoch 60/300\n",
            "117/117 [==============================] - 4s 33ms/step - loss: 0.7673 - accuracy: 0.6634 - val_loss: 0.9567 - val_accuracy: 0.5608\n",
            "Epoch 61/300\n",
            "117/117 [==============================] - 4s 32ms/step - loss: 0.7807 - accuracy: 0.6546 - val_loss: 1.7776 - val_accuracy: 0.3299\n",
            "Epoch 62/300\n",
            "117/117 [==============================] - 4s 34ms/step - loss: 0.7864 - accuracy: 0.6516 - val_loss: 1.0886 - val_accuracy: 0.4687\n",
            "Epoch 63/300\n",
            "117/117 [==============================] - 4s 33ms/step - loss: 0.7835 - accuracy: 0.6531 - val_loss: 1.1632 - val_accuracy: 0.4454\n",
            "Epoch 64/300\n",
            "117/117 [==============================] - 4s 32ms/step - loss: 0.7696 - accuracy: 0.6644 - val_loss: 1.0762 - val_accuracy: 0.5052\n",
            "Epoch 65/300\n",
            "117/117 [==============================] - 4s 33ms/step - loss: 0.7666 - accuracy: 0.6684 - val_loss: 0.9472 - val_accuracy: 0.5883\n",
            "Epoch 66/300\n",
            "117/117 [==============================] - 4s 33ms/step - loss: 0.7539 - accuracy: 0.6687 - val_loss: 1.0121 - val_accuracy: 0.5388\n",
            "Epoch 67/300\n",
            "117/117 [==============================] - 4s 32ms/step - loss: 0.7624 - accuracy: 0.6679 - val_loss: 0.9394 - val_accuracy: 0.5787\n",
            "Epoch 68/300\n",
            "117/117 [==============================] - 4s 32ms/step - loss: 0.7512 - accuracy: 0.6703 - val_loss: 1.7551 - val_accuracy: 0.3450\n",
            "Epoch 69/300\n",
            "117/117 [==============================] - 4s 33ms/step - loss: 0.7486 - accuracy: 0.6754 - val_loss: 0.9316 - val_accuracy: 0.5842\n",
            "Epoch 70/300\n",
            "117/117 [==============================] - 4s 33ms/step - loss: 0.7459 - accuracy: 0.6716 - val_loss: 0.9703 - val_accuracy: 0.5622\n",
            "Epoch 71/300\n",
            "117/117 [==============================] - 4s 33ms/step - loss: 0.7448 - accuracy: 0.6745 - val_loss: 0.9866 - val_accuracy: 0.5711\n",
            "Epoch 72/300\n",
            "117/117 [==============================] - 4s 34ms/step - loss: 0.7420 - accuracy: 0.6830 - val_loss: 0.9379 - val_accuracy: 0.5890\n",
            "Epoch 73/300\n",
            "117/117 [==============================] - 4s 32ms/step - loss: 0.7292 - accuracy: 0.6777 - val_loss: 0.9489 - val_accuracy: 0.5856\n",
            "Epoch 74/300\n",
            "117/117 [==============================] - 4s 32ms/step - loss: 0.7224 - accuracy: 0.6797 - val_loss: 1.6136 - val_accuracy: 0.3526\n",
            "Epoch 75/300\n",
            "117/117 [==============================] - 4s 33ms/step - loss: 0.7350 - accuracy: 0.6817 - val_loss: 0.9461 - val_accuracy: 0.5780\n",
            "Epoch 76/300\n",
            "117/117 [==============================] - 4s 33ms/step - loss: 0.7159 - accuracy: 0.6843 - val_loss: 0.9550 - val_accuracy: 0.5739\n",
            "Epoch 77/300\n",
            "117/117 [==============================] - 4s 33ms/step - loss: 0.7221 - accuracy: 0.6891 - val_loss: 1.0824 - val_accuracy: 0.5127\n",
            "Epoch 78/300\n",
            "117/117 [==============================] - 4s 34ms/step - loss: 0.7066 - accuracy: 0.6909 - val_loss: 1.0043 - val_accuracy: 0.5553\n",
            "Epoch 79/300\n",
            "117/117 [==============================] - 4s 33ms/step - loss: 0.7142 - accuracy: 0.6892 - val_loss: 1.3652 - val_accuracy: 0.3973\n",
            "Epoch 80/300\n",
            "117/117 [==============================] - 4s 32ms/step - loss: 0.7178 - accuracy: 0.6849 - val_loss: 1.4531 - val_accuracy: 0.3897\n",
            "Epoch 81/300\n",
            "117/117 [==============================] - 4s 35ms/step - loss: 0.7060 - accuracy: 0.6899 - val_loss: 1.2321 - val_accuracy: 0.4433\n",
            "Epoch 82/300\n",
            "117/117 [==============================] - 4s 33ms/step - loss: 0.7388 - accuracy: 0.6845 - val_loss: 1.0260 - val_accuracy: 0.5615\n",
            "Epoch 83/300\n",
            "117/117 [==============================] - 4s 33ms/step - loss: 0.7181 - accuracy: 0.6888 - val_loss: 0.9825 - val_accuracy: 0.5698\n",
            "Epoch 84/300\n",
            "117/117 [==============================] - 4s 34ms/step - loss: 0.6849 - accuracy: 0.7052 - val_loss: 0.9795 - val_accuracy: 0.5718\n",
            "Epoch 85/300\n",
            "117/117 [==============================] - 4s 34ms/step - loss: 0.7469 - accuracy: 0.6745 - val_loss: 0.9581 - val_accuracy: 0.5718\n",
            "Epoch 86/300\n",
            "117/117 [==============================] - 4s 33ms/step - loss: 0.7110 - accuracy: 0.6936 - val_loss: 1.2768 - val_accuracy: 0.4117\n",
            "Epoch 87/300\n",
            "117/117 [==============================] - 4s 33ms/step - loss: 0.7589 - accuracy: 0.6676 - val_loss: 1.1921 - val_accuracy: 0.4241\n",
            "Epoch 88/300\n",
            "117/117 [==============================] - 4s 34ms/step - loss: 0.7386 - accuracy: 0.6762 - val_loss: 1.1557 - val_accuracy: 0.4529\n",
            "Epoch 89/300\n",
            "117/117 [==============================] - 4s 32ms/step - loss: 0.7146 - accuracy: 0.6870 - val_loss: 0.9640 - val_accuracy: 0.5691\n",
            "Epoch 90/300\n",
            "117/117 [==============================] - 4s 32ms/step - loss: 0.7098 - accuracy: 0.6897 - val_loss: 0.9701 - val_accuracy: 0.5608\n",
            "Epoch 91/300\n",
            "117/117 [==============================] - 4s 34ms/step - loss: 0.6949 - accuracy: 0.6961 - val_loss: 0.9421 - val_accuracy: 0.5863\n",
            "Epoch 92/300\n",
            "117/117 [==============================] - ETA: 0s - loss: 0.6849 - accuracy: 0.7017Restoring model weights from the end of the best epoch: 72.\n",
            "117/117 [==============================] - 4s 32ms/step - loss: 0.6849 - accuracy: 0.7017 - val_loss: 0.9429 - val_accuracy: 0.5883\n",
            "Epoch 92: early stopping\n"
          ]
        },
        {
          "output_type": "execute_result",
          "data": {
            "text/plain": [
              "<keras.src.callbacks.History at 0x7afa701310f0>"
            ]
          },
          "metadata": {},
          "execution_count": 13
        }
      ]
    },
    {
      "cell_type": "code",
      "source": [
        "cnn.evaluate(xtest,ytest)"
      ],
      "metadata": {
        "colab": {
          "base_uri": "https://localhost:8080/"
        },
        "id": "J4YUcZF7u2Wd",
        "outputId": "bfe27a53-0939-451a-a245-0844df98da8a"
      },
      "execution_count": null,
      "outputs": [
        {
          "output_type": "stream",
          "name": "stdout",
          "text": [
            "46/46 [==============================] - 1s 9ms/step - loss: 0.9379 - accuracy: 0.5890\n"
          ]
        },
        {
          "output_type": "execute_result",
          "data": {
            "text/plain": [
              "[0.9378713965415955, 0.5890034437179565]"
            ]
          },
          "metadata": {},
          "execution_count": 14
        }
      ]
    },
    {
      "cell_type": "code",
      "source": [
        "\n",
        "import os\n",
        "import numpy as np\n",
        "from tensorflow.keras.preprocessing import image\n",
        "\n",
        "# Make predictions on user input images\n",
        "def predict_knee_image(user_image_path):\n",
        "    user_image = image.load_img(user_image_path, target_size=(100, 100))\n",
        "\n",
        "    # Check image format and convert if necessary\n",
        "    if user_image.format != 'PNG':  # Adjust if you only support JPEG\n",
        "        user_image = user_image.convert('RGB')\n",
        "\n",
        "    user_image = image.img_to_array(user_image)\n",
        "    user_image = np.expand_dims(user_image, axis=0)\n",
        "\n",
        "    prediction = cnn.predict(user_image)\n",
        "    predicted_class = np.argmax(prediction)\n",
        "\n",
        "    if predicted_class == 0:\n",
        "        print(\"Correct image: Knee image detected\")\n",
        "    else:\n",
        "        print(\"Wrong image: Knee image not detected\")\n",
        "\n",
        "# Example usage\n",
        "user_image_path = \"/content/kidney.jpeg\"  # Replace with the actual path\n",
        "predict_knee_image(user_image_path)"
      ],
      "metadata": {
        "colab": {
          "base_uri": "https://localhost:8080/"
        },
        "id": "7xQBE0y1u2Z6",
        "outputId": "7c704965-3127-4082-ce0e-7137ae7c651c"
      },
      "execution_count": null,
      "outputs": [
        {
          "output_type": "stream",
          "name": "stdout",
          "text": [
            "1/1 [==============================] - 0s 17ms/step\n",
            "Wrong image: Knee image not detected\n"
          ]
        }
      ]
    }
  ]
}